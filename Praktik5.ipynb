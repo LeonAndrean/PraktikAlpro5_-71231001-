{
 "cells": [
  {
   "cell_type": "code",
   "execution_count": 2,
   "metadata": {},
   "outputs": [
    {
     "name": "stdout",
     "output_type": "stream",
     "text": [
      "12 x 11 = 12 + 12 + 12 + 12 + 12 + 12 + 12 + 12 + 12 + 12 + 12 =  132\n"
     ]
    }
   ],
   "source": [
    "#soal 1\n",
    "#Buatlah program yang menerapkan perhitungan perkalian dengan menggunakan penjumlahan.\n",
    "#Buatlah fungsi perkalian() dalam program tersebut! Berikut ini adalah beberapa, contoh perhitungan yang diharapkan:\n",
    "# • 6 x 5 = 5 + 5 + 5 + 5 + 5 + 5 = 30.\n",
    "# • 7 x 10 = 10 + 10 + 10 + 10 + 10 + 10 + 10 = 70.\n",
    "\n",
    "bil1 = int(input(\"Masukkan angka pertama: \"))\n",
    "bil2 = int(input(\"Masukkan angka kedua: \"))\n",
    "\n",
    "def perkalian(a, b):\n",
    "    hasil = 0\n",
    "    for _ in range(b):\n",
    "        hasil += a\n",
    "    return hasil\n",
    "\n",
    "print(f\"{bil1} x {bil2} =\", end=\" \")\n",
    "for i in range(bil2):\n",
    "    if i != bil2-1:\n",
    "        print(f\"{bil1} +\", end=\" \")\n",
    "    else:\n",
    "        print(bil1, end=\" \")\n",
    "print(\"= \", perkalian(bil1, bil2))"
   ]
  },
  {
   "cell_type": "code",
   "execution_count": 3,
   "metadata": {},
   "outputs": [
    {
     "name": "stdout",
     "output_type": "stream",
     "text": [
      "Deret bilangan ganjil jika bawah 12 dan atas 21:\n",
      "13 15 17 19 21 "
     ]
    }
   ],
   "source": [
    "#Buatlah program yang dapat menampilkan deret bilangan ganjil dari batas bawah dan batas atas yang diberikan oleh pengguna.\n",
    "# Jika ternyata batas atas < batas bawah, berarti deret tersebut dimulai dari batas atas, sampai batas bawah (negatif range).\n",
    "# Buatlah fungsi ganjil() dalam program tersebut! Berikut ini adalah contoh hasil yang diharapkan:\n",
    "#• bawah = 10, atas = 30. Karena bawah < atas, berarti dari kecil ke besar, maka hasilnya adalah: 11, 13, 15, 17, 19, 21, 23, 25, 27, 29.\n",
    "#• bawah = 97, atas = 82. Karena bawah > atas, berarti dari besar ke kecil, maka hasilnya adalah: 97, 95, 93, 91, 89, 87, 85, 83.\n",
    "\n",
    "def ganjil(satu, dua):\n",
    "    if satu < dua:\n",
    "        for i in range(satu, dua + 1):\n",
    "            if i % 2 != 0:\n",
    "                print(i, end=\" \")\n",
    "    else:\n",
    "        while satu >= dua:\n",
    "            if satu % 2 != 0:\n",
    "                print(satu, end=\" \")\n",
    "            satu -= 1\n",
    "\n",
    "satu = int(input(\"Masukkan batas bawah: \"))\n",
    "dua = int(input(\"Masukkan batas atas: \"))\n",
    "\n",
    "print(f\"Deret bilangan ganjil jika bawah {satu} dan atas {dua}:\")\n",
    "ganjil(satu, dua)"
   ]
  },
  {
   "cell_type": "code",
   "execution_count": 4,
   "metadata": {},
   "outputs": [
    {
     "name": "stdout",
     "output_type": "stream",
     "text": [
      "IPS yang didapatkan: 2.67\n"
     ]
    }
   ],
   "source": [
    "# Buatlah sebuah program penghitung nilai Indeks Prestasi Semester (IPS). Input bagi program:\n",
    "#• Jumlah mata kuliah\n",
    "#• Nilai A, B, C, dan D untuk setiap mata kuliah mahasiswa. Diasumsikan sks setiap mata\n",
    "#kuliah selalu 3. Kemudian bobot dari masing-masing nilai adalah: A=4, B=3, C=2, D=1.\n",
    "#Output program ialah hasil IPS yang didapatkan. Jalannya program seperti pada Gambar 5.7.\n",
    "#Tips: Gunakan kontrol percabangan di dalam perulangan. \n",
    "\n",
    "jumlah_matkul = int(input(\"Berapakah jumlah mata kuliah: \"))\n",
    "total_nilai = 0\n",
    "jumlah_sks = jumlah_matkul * 3\n",
    "\n",
    "for i in range(0, jumlah_matkul):\n",
    "    nilai_matkul = input(\"Nilai Mata Kuliah %d: \" % (i+1)).upper()\n",
    "\n",
    "    if nilai_matkul == \"A\":\n",
    "        bobot_nilai = 4\n",
    "    elif nilai_matkul == \"B\":\n",
    "        bobot_nilai = 3\n",
    "    elif nilai_matkul == \"C\":\n",
    "        bobot_nilai = 2\n",
    "    elif nilai_matkul == \"D\":\n",
    "        bobot_nilai = 1\n",
    "    else:\n",
    "        print(\"Nilai yang dimasukkan tidak valid\")\n",
    "        bobot_nilai = 0\n",
    "\n",
    "    total_nilai += bobot_nilai * 3\n",
    "\n",
    "ips = total_nilai / jumlah_sks\n",
    "print(\"IPS yang didapatkan: %0.2f\" % ips)"
   ]
  }
 ],
 "metadata": {
  "kernelspec": {
   "display_name": "Python 3",
   "language": "python",
   "name": "python3"
  },
  "language_info": {
   "codemirror_mode": {
    "name": "ipython",
    "version": 3
   },
   "file_extension": ".py",
   "mimetype": "text/x-python",
   "name": "python",
   "nbconvert_exporter": "python",
   "pygments_lexer": "ipython3",
   "version": "3.11.4"
  }
 },
 "nbformat": 4,
 "nbformat_minor": 2
}
